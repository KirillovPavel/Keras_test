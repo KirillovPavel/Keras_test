{
 "cells": [
  {
   "cell_type": "code",
   "execution_count": 1,
   "metadata": {},
   "outputs": [
    {
     "name": "stderr",
     "output_type": "stream",
     "text": [
      "Using TensorFlow backend.\n"
     ]
    }
   ],
   "source": [
    "import cv2\n",
    "import numpy as np\n",
    "import random as rd\n",
    "import math\n",
    "import keras\n",
    "\n",
    "\n",
    "def get_image():    #get 1 image with center coordinates\n",
    "    r = 6\n",
    "    image = np.zeros((50, 50))\n",
    "    x, y = 6 + math.floor(rd.random() * 38), 6 + math.floor(rd.random() * 38)\n",
    "    angle = (rd.random() * math.pi)\n",
    "    x1, y1 = int(x + round(2 * r * np.cos(angle))), int(y - round(2 * r * np.sin(angle)))\n",
    "    x2, y2 = int(x - round(2 * r * np.cos(angle))), int(y + round(2 * r * np.sin(angle)))\n",
    "    cv2.line(image, (x1, y1), (x2, y2), 255, 1)\n",
    "    cv2.circle(image, (x, y), r, 255, 1)\n",
    "    res = np.zeros((100))\n",
    "    res[x] = 0.5\n",
    "    res[50 + y] = 0.5\n",
    "    return (image, res)\n",
    "\n",
    "def get_model():   #test model\n",
    "    model = keras.Sequential()\n",
    "    model.add(keras.layers.Conv2D(filters = 3, kernel_size = 5, activation = \"relu\", input_shape = (50, 50, 1)))\n",
    "    model.add(keras.layers.Dropout(0.2))\n",
    "    model.add(keras.layers.Conv2D(filters = 8, kernel_size = 3, activation = \"relu\"))\n",
    "    model.add(keras.layers.Dropout(0.2))\n",
    "    model.add(keras.layers.Flatten())\n",
    "    model.add(keras.layers.Dense(100, activation = \"softmax\"))\n",
    "\n",
    "    model.compile(optimizer='adam',\n",
    "                  loss='categorical_crossentropy',\n",
    "                  metrics=['accuracy'])\n",
    "    return model\n",
    "\n",
    "def get_data(n):    #get n images with center coordinates\n",
    "    x_test = list()\n",
    "    y_test = list()\n",
    "    for i in range(n):\n",
    "        item = get_image()\n",
    "        x_test.append(item[0])\n",
    "        y_test.append(item[1])\n",
    "    x_test = np.reshape(np.array(x_test), (n, 50, 50, 1))\n",
    "    y_test = np.array(y_test)\n",
    "    return (x_test, y_test)    #x_test - n images; y_test - n  coordinates\n",
    "    \n",
    "def imshow(image):\n",
    "    cv2.imshow(\"Image\", image)\n",
    "    cv2.waitKey(0)\n",
    "    cv2.destroyAllWindows()\n",
    "    \n",
    "def show_result(image, model):    #preprocessing model results(get center coordinates and show the image result)\n",
    "    buf_image = np.reshape(image, (1, 50, 50, 1))\n",
    "    pr = model.predict(buf_image)\n",
    "    max_x = 0\n",
    "    max_y = 0\n",
    "    ind_x = 0\n",
    "    ind_y = 0\n",
    "    for i in range(50):\n",
    "        if(pr[0][i] > max_x):\n",
    "            max_x = pr[0][i]\n",
    "            ind_x = i\n",
    "        if(pr[0][i + 50] > max_y):\n",
    "            max_y = pr[0][50 + i]\n",
    "            ind_y = i\n",
    "    my_image = image\n",
    "    cv2.line(my_image, (ind_x, 0), (ind_x, 49), 255, 1)\n",
    "    cv2.line(my_image, (0, ind_y), (49, ind_y), 255, 1)\n",
    "    imshow(my_image)\n",
    "    print(ind_x, ind_y)"
   ]
  },
  {
   "cell_type": "markdown",
   "metadata": {},
   "source": [
    "# Model learning"
   ]
  },
  {
   "cell_type": "code",
   "execution_count": 2,
   "metadata": {},
   "outputs": [
    {
     "name": "stdout",
     "output_type": "stream",
     "text": [
      "Epoch 1/30\n",
      "1000/1000 [==============================] - 6s 6ms/step - loss: 20.9493 - accuracy: 0.1210\n",
      "Epoch 2/30\n",
      "1000/1000 [==============================] - 4s 4ms/step - loss: 5.8127 - accuracy: 0.3740\n",
      "Epoch 3/30\n",
      "1000/1000 [==============================] - 5s 5ms/step - loss: 4.2301 - accuracy: 0.4680\n",
      "Epoch 4/30\n",
      "1000/1000 [==============================] - 5s 5ms/step - loss: 2.7930 - accuracy: 0.4820\n",
      "Epoch 5/30\n",
      "1000/1000 [==============================] - 5s 5ms/step - loss: 2.2268 - accuracy: 0.4700\n",
      "Epoch 6/30\n",
      "1000/1000 [==============================] - 4s 4ms/step - loss: 1.7851 - accuracy: 0.4980\n",
      "Epoch 7/30\n",
      "1000/1000 [==============================] - 5s 5ms/step - loss: 1.6041 - accuracy: 0.4890\n",
      "Epoch 8/30\n",
      "1000/1000 [==============================] - 4s 4ms/step - loss: 1.3456 - accuracy: 0.4860\n",
      "Epoch 9/30\n",
      "1000/1000 [==============================] - 4s 4ms/step - loss: 1.2966 - accuracy: 0.5010\n",
      "Epoch 10/30\n",
      "1000/1000 [==============================] - 5s 5ms/step - loss: 1.2558 - accuracy: 0.5030\n",
      "Epoch 11/30\n",
      "1000/1000 [==============================] - 4s 4ms/step - loss: 1.1842 - accuracy: 0.5190\n",
      "Epoch 12/30\n",
      "1000/1000 [==============================] - 4s 4ms/step - loss: 1.1468 - accuracy: 0.4880\n",
      "Epoch 13/30\n",
      "1000/1000 [==============================] - 5s 5ms/step - loss: 1.1058 - accuracy: 0.5110\n",
      "Epoch 14/30\n",
      "1000/1000 [==============================] - 5s 5ms/step - loss: 1.0720 - accuracy: 0.5030\n",
      "Epoch 15/30\n",
      "1000/1000 [==============================] - 5s 5ms/step - loss: 1.0389 - accuracy: 0.5270\n",
      "Epoch 16/30\n",
      "1000/1000 [==============================] - 4s 4ms/step - loss: 1.0481 - accuracy: 0.4770\n",
      "Epoch 17/30\n",
      "1000/1000 [==============================] - 5s 5ms/step - loss: 1.0135 - accuracy: 0.5210\n",
      "Epoch 18/30\n",
      "1000/1000 [==============================] - 5s 5ms/step - loss: 0.9944 - accuracy: 0.5100\n",
      "Epoch 19/30\n",
      "1000/1000 [==============================] - 4s 4ms/step - loss: 0.9866 - accuracy: 0.5120\n",
      "Epoch 20/30\n",
      "1000/1000 [==============================] - 4s 4ms/step - loss: 0.9650 - accuracy: 0.5090\n",
      "Epoch 21/30\n",
      "1000/1000 [==============================] - 4s 4ms/step - loss: 0.9525 - accuracy: 0.4710\n",
      "Epoch 22/30\n",
      "1000/1000 [==============================] - 4s 4ms/step - loss: 0.9398 - accuracy: 0.5090\n",
      "Epoch 23/30\n",
      "1000/1000 [==============================] - 5s 5ms/step - loss: 0.9494 - accuracy: 0.5100\n",
      "Epoch 24/30\n",
      "1000/1000 [==============================] - 5s 5ms/step - loss: 0.9477 - accuracy: 0.5250\n",
      "Epoch 25/30\n",
      "1000/1000 [==============================] - 4s 4ms/step - loss: 0.9324 - accuracy: 0.4630\n",
      "Epoch 26/30\n",
      "1000/1000 [==============================] - 4s 4ms/step - loss: 0.9260 - accuracy: 0.5230\n",
      "Epoch 27/30\n",
      "1000/1000 [==============================] - 4s 4ms/step - loss: 0.9079 - accuracy: 0.4930\n",
      "Epoch 28/30\n",
      "1000/1000 [==============================] - 4s 4ms/step - loss: 0.9064 - accuracy: 0.5190\n",
      "Epoch 29/30\n",
      "1000/1000 [==============================] - 5s 5ms/step - loss: 0.9045 - accuracy: 0.4850\n",
      "Epoch 30/30\n",
      "1000/1000 [==============================] - 5s 5ms/step - loss: 0.8964 - accuracy: 0.5290\n"
     ]
    },
    {
     "data": {
      "text/plain": [
       "<keras.callbacks.callbacks.History at 0x7ff544116da0>"
      ]
     },
     "execution_count": 2,
     "metadata": {},
     "output_type": "execute_result"
    }
   ],
   "source": [
    "data = get_data(1000)\n",
    "model = get_model()\n",
    "model.fit(data[0], data[1], epochs = 30)"
   ]
  },
  {
   "cell_type": "markdown",
   "metadata": {},
   "source": [
    "# Show results with some images"
   ]
  },
  {
   "cell_type": "code",
   "execution_count": null,
   "metadata": {},
   "outputs": [],
   "source": [
    "image = get_image()\n",
    "show_result(image[0], model)"
   ]
  },
  {
   "cell_type": "code",
   "execution_count": null,
   "metadata": {},
   "outputs": [],
   "source": [
    "model.summary()"
   ]
  },
  {
   "cell_type": "code",
   "execution_count": null,
   "metadata": {},
   "outputs": [],
   "source": []
  },
  {
   "cell_type": "code",
   "execution_count": null,
   "metadata": {},
   "outputs": [],
   "source": []
  },
  {
   "cell_type": "code",
   "execution_count": null,
   "metadata": {},
   "outputs": [],
   "source": []
  },
  {
   "cell_type": "code",
   "execution_count": null,
   "metadata": {},
   "outputs": [],
   "source": []
  }
 ],
 "metadata": {
  "kernelspec": {
   "display_name": "Python 3",
   "language": "python",
   "name": "python3"
  },
  "language_info": {
   "codemirror_mode": {
    "name": "ipython",
    "version": 3
   },
   "file_extension": ".py",
   "mimetype": "text/x-python",
   "name": "python",
   "nbconvert_exporter": "python",
   "pygments_lexer": "ipython3",
   "version": "3.7.3"
  }
 },
 "nbformat": 4,
 "nbformat_minor": 2
}
